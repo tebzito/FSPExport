{
 "cells": [
  {
   "cell_type": "markdown",
   "id": "e6c94994",
   "metadata": {},
   "source": [
    "# **Hands-on Lab : Web Scraping**"
   ]
  },
  {
   "cell_type": "markdown",
   "id": "b1cb3fcc",
   "metadata": {},
   "source": [
    "## Objectives"
   ]
  },
  {
   "cell_type": "markdown",
   "id": "a3d77c89",
   "metadata": {},
   "source": [
    "In this lab you will perform the following:"
   ]
  },
  {
   "cell_type": "markdown",
   "id": "a398d8a6",
   "metadata": {},
   "source": [
    "-   Extract information from a given web site \n",
    "-   Write the scraped data into a csv file."
   ]
  },
  {
   "cell_type": "markdown",
   "id": "64abaff8",
   "metadata": {},
   "source": [
    "## Extract information from the given web site\n",
    "\n",
    "You will extract the data from the below web site: <br> \n"
   ]
  },
  {
   "cell_type": "code",
   "execution_count": 2,
   "id": "90ab38b1",
   "metadata": {},
   "outputs": [],
   "source": [
    "#this url contains the data you need to scrape\n",
    "url = 'https://www.fsca.co.za/Fais/Search_FSP.htm'"
   ]
  },
  {
   "cell_type": "code",
   "execution_count": 3,
   "id": "0857a1d3",
   "metadata": {},
   "outputs": [],
   "source": [
    "# Install selenium if it doesn't exist\n",
    "#!pip install selenium"
   ]
  },
  {
   "cell_type": "markdown",
   "id": "fcc6b3ff",
   "metadata": {},
   "source": [
    "Import the required libraries"
   ]
  },
  {
   "cell_type": "code",
   "execution_count": 5,
   "id": "99650a3a",
   "metadata": {},
   "outputs": [],
   "source": [
    "# from bs4 import BeautifulSoup as bs\n",
    "import requests\n",
    "import csv\n",
    "import selenium\n",
    "from selenium import webdriver\n",
    "from selenium.webdriver.common.by import By\n",
    "import time\n",
    "import pandas as pd"
   ]
  },
  {
   "cell_type": "code",
   "execution_count": 44,
   "id": "d77dd845",
   "metadata": {},
   "outputs": [],
   "source": [
    "driver = webdriver.Chrome()\n",
    "\n",
    "# request the HTML page\n",
    "driver.get(url)"
   ]
  },
  {
   "cell_type": "code",
   "execution_count": 45,
   "id": "d318389e",
   "metadata": {
    "scrolled": true
   },
   "outputs": [],
   "source": [
    "# Save agent data\n",
    "# Open the CSV file\n",
    "with open('FSPExportNew4.csv') as f:\n",
    "    reader = csv.DictReader(f)\n",
    "    # loop through each row in the CSV file, starting from the row you want\n",
    "    for row in list(reader)[9350:]:\n",
    "        product_number = row['FSPno']\n",
    "        # click on product_number\n",
    "        driver.find_element(By.NAME, 'Search_FSP_No').send_keys(product_number)\n",
    "        driver.find_element(By.NAME, 'bSubmit').click()\n",
    "#         try:\n",
    "#             if driver.find_element(By.XPATH, \"//body/form/center/table[2]/tbody/tr[2]/td[text()='License Suspended']\"):\n",
    "#                 break\n",
    "#         except NoSuchElementException:\n",
    "#                 continue\n",
    "\n",
    "        driver.find_element(By.NAME, 'bDetails').click()\n",
    "        driver.find_element(By.XPATH, \"//h2[contains(@onclick, \\\"expandcontent('Representatives')\\\")]\").click()\n",
    "        searches = driver.find_elements(By.NAME, 'bSearch')\n",
    "        for search in searches:\n",
    "            search.click()\n",
    "            t1 = 0\n",
    "            #Create empty list\n",
    "            AllRows = []\n",
    "            while(True):\n",
    "                try:\n",
    "                    t1 += 1\n",
    "                    #find and parse element from page\n",
    "                    agents = driver.find_element(By.XPATH, \"//body/form/center/table[2]/tbody/tr[\" + str(t1) + \"]\")\n",
    "                    #append element to list\n",
    "                    AllRows.append(agents.text)\n",
    "                    if (t1==50):\n",
    "                        driver.find_element(By.NAME, 'bNext').click()\n",
    "#                         agents2 = driver.find_element(By.XPATH, \"//body/form/center/table[2]/tbody/tr[\" + str(t1) + \"]\")\n",
    "                        AllRows.append(agents.text)\n",
    "                except Exception as e:\n",
    "                    #if we reach the end of the list, break the loop\n",
    "                    if 'no such element' in str(e):\n",
    "                        break\n",
    "            continue\n",
    "\n",
    "        #Convert list to string\n",
    "        str1 = ','.join(AllRows)\n",
    "\n",
    "        #store string to csv\n",
    "        with open('FSPExport_agents23.csv', 'a', encoding='utf-8') as f:\n",
    "            f.write(str1+\"\\n\")\n",
    "        # Return to top of for loop, its inside the function to the main page and loop through the csv file again\n",
    "        driver.get('https://www.fsca.co.za/Fais/Search_FSP.htm')\n",
    "    \n",
    "#close the webdriver  4219 4481 4658 7987 9027 9089 33933 33970 35508\n",
    "driver.close()"
   ]
  },
  {
   "cell_type": "code",
   "execution_count": 1,
   "id": "7cd1abe4",
   "metadata": {
    "scrolled": true
   },
   "outputs": [],
   "source": [
    "# # Save agent data\n",
    "# # Open the CSV file\n",
    "# with open('FSPExportSmall.csv') as f:\n",
    "#     reader = csv.DictReader(f)\n",
    "#       # loop through each row in the CSV file\n",
    "#     for row in reader:\n",
    "#         product_number = row['FSPno']\n",
    "#         # click on product_number\n",
    "#         driver.find_element(By.NAME, 'Search_FSP_No').send_keys(product_number)\n",
    "#         driver.find_element(By.NAME, 'bSubmit').click()\n",
    "#         driver.find_element(By.NAME, 'bDetails').click()\n",
    "#         driver.find_element(By.XPATH, \"//h2[contains(@onclick, \\\"expandcontent('Representatives')\\\")]\").click()\n",
    "#         searches = driver.find_elements(By.NAME, 'bSearch')\n",
    "#         for search in searches:\n",
    "#             search.click()\n",
    "#             t1 = 0\n",
    "#             #iterate on every available tr[] element\n",
    "#             while(True):\n",
    "#                 try:\n",
    "#                     t1 += 1\n",
    "#                     #open a new file to store the new data\n",
    "#                     with open(\"FSPExport_agents.csv\", 'a', newline='') as f:\n",
    "#                         #find and write the element to our existing csv file\n",
    "#                         agents = driver.find_element(By.XPATH, \"//body/form/center/table[2]/tbody/tr[\" + str(t1) + \"]\")\n",
    "#                         f.write(','.join([agents.text]) + '\\n')\n",
    "#                         if (t1==50):\n",
    "#                             driver.find_element(By.NAME, 'bNext').click()\n",
    "#                             time.sleep(3)\n",
    "\n",
    "#                 except Exception as e:\n",
    "#                     #if we reach the end of the list, break the loop\n",
    "#                     if 'no such element' in str(e):\n",
    "#                         break\n",
    "#             continue\n",
    "\n",
    "\n",
    "#     # Return to top of for loop, its inside the function to the main page and loop through the csv file again\n",
    "#     driver.get('https://www.fsca.co.za/Fais/Search_FSP.htm')\n",
    "    \n",
    "# #close the webdriver\n",
    "# driver.close()"
   ]
  },
  {
   "cell_type": "code",
   "execution_count": 18,
   "id": "d053307a",
   "metadata": {},
   "outputs": [],
   "source": [
    "# Dark mode\n",
    "#!pip install jupyterthemes\n",
    "#!jt -t monokai"
   ]
  },
  {
   "cell_type": "code",
   "execution_count": 7,
   "id": "fb63feef",
   "metadata": {
    "scrolled": true
   },
   "outputs": [],
   "source": [
    "data_list = []\n",
    "# Open the CSV file\n",
    "with open('FSPExport_test.csv') as f:\n",
    "  reader = csv.DictReader(f)\n",
    "  # loop through each row in the CSV file\n",
    "  for row in reader:\n",
    "    product_number = row['FSPno']\n",
    "    # click on product_number\n",
    "    driver.find_element(By.NAME, 'Search_FSP_No').send_keys(product_number)\n",
    "    driver.find_element(By.NAME, 'bSubmit').click()\n",
    "    driver.find_element(By.NAME, 'bDetails').click()\n",
    "    driver.find_element(By.XPATH, \"//h2[contains(@onclick, \\\"expandcontent('Representatives')\\\")]\").click()\n",
    "    searches = driver.find_elements(By.NAME, 'bSearch')\n",
    "    for search in searches:\n",
    "        search.click()\n",
    "        s1 = 0\n",
    "        s1 += 1\n",
    "        driver.find_element(By.XPATH, \"//body/form/center/table[2]/tbody/tr[\" + str(s1) + \"]\")\n",
    "        driver.find_element(By.NAME, 'bProducts').click()     \n",
    "\n",
    "        t1 = 0\n",
    "        #iterate on every available tr[] element\n",
    "        while(True):\n",
    "            try:\n",
    "                t1 += 1\n",
    "                #open a new file to store the new data\n",
    "                with open(\"FSPExport4.csv\", 'a', newline='') as f:\n",
    "                    #find and write the element to our existing csv file\n",
    "                    category_description = driver.find_element(By.XPATH, \"//body/center/table/tbody/tr[\" + str(t1) + \"]/td[3]\")\n",
    "    #                     data_list.append(category_description.text)\n",
    "                    #write the data to the csv with the appropriate columns\n",
    "#                     f.write(','.join([category_description.text]) + '\\n')\n",
    "            except Exception as e:\n",
    "                #if we reach the end of the list, break the loop\n",
    "                if 'no such element' in str(e):\n",
    "                    break\n",
    "        driver.back()\n",
    "        driver.back()\n",
    "        driver.find_element(By.XPATH, \"//h2[contains(@onclick, \\\"expandcontent('Representatives')\\\")]\").click()\n",
    "        searches = driver.find_element(By.NAME, 'bSearch')\n",
    "        continue\n",
    "                \n",
    " \n",
    "    # Return to top of for loop, its inside the function to the main page and loop through the csv file again\n",
    "#     driver.get('https://www.fsca.co.za/Fais/Search_FSP.htm')\n",
    "    \n",
    "#close the webdriver\n",
    "driver.close()"
   ]
  },
  {
   "cell_type": "code",
   "execution_count": null,
   "id": "6e6a45bc",
   "metadata": {},
   "outputs": [],
   "source": [
    "# defines the start row for the loop\n",
    "start = 10\n",
    "\n",
    "# read the CSV file\n",
    "with open('FSPExportNew.csv') as f:\n",
    "    reader = csv.DictReader(f)\n",
    "    # loop through each row in the CSV file\n",
    "    for i, row in enumerate(reader):\n",
    "        # only loop through starting from the specified start row\n",
    "        if i &gt;= start:\n",
    "            product_number = row['FSPno']\n",
    "            # click on product_number\n",
    "            driver.find_element(By.NAME, 'Search_FSP_No').send_keys(product_number)\n",
    "            driver.find_element(By.NAME, 'bSubmit').click()\n",
    "            \n",
    "            \n",
    "with open('FSPExportNew.csv') as f:\n",
    "    reader = csv.DictReader(f)\n",
    "    # loop through each row in the CSV file, starting from the row you want\n",
    "    for row in reader:\n",
    "        if row['FSPno'] == '9095':\n",
    "            # start scraping data starting with this row\n",
    "            pass  # or whatever you want to do with that row\n",
    "        # click on product_number\n",
    "        product_number = row['FSPno']\n",
    "        driver.find_element(By.NAME, 'Search_FSP_No').send_keys(product_number)\n",
    "        driver.find_element(By.NAME, 'bSubmit').click()\n",
    "        time.sleep(10)  # give time to load page"
   ]
  }
 ],
 "metadata": {
  "celltoolbar": "Raw Cell Format",
  "kernelspec": {
   "display_name": "Python 3 (ipykernel)",
   "language": "python",
   "name": "python3"
  },
  "language_info": {
   "codemirror_mode": {
    "name": "ipython",
    "version": 3
   },
   "file_extension": ".py",
   "mimetype": "text/x-python",
   "name": "python",
   "nbconvert_exporter": "python",
   "pygments_lexer": "ipython3",
   "version": "3.11.5"
  }
 },
 "nbformat": 4,
 "nbformat_minor": 5
}
